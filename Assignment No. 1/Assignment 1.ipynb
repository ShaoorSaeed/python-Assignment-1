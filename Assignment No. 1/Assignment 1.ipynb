{
 "cells": [
  {
   "cell_type": "code",
   "execution_count": 11,
   "id": "ff9c13c9",
   "metadata": {},
   "outputs": [
    {
     "name": "stdout",
     "output_type": "stream",
     "text": [
      "Twinkle, twinkle little star,\n",
      "\t How I wonder what you are!\n",
      " \t \t Up above the world so high,\n",
      " \t \t Like a diamond in the sky.\n",
      "Twinkle twinkle, little star, \n",
      " \t How I wonder what you are\n"
     ]
    }
   ],
   "source": [
    "print (\"Twinkle, twinkle little star,\\n\\t How I wonder what you are!\\n \\t \\t Up above the world so high,\\n \\t \\t Like a diamond in the sky.\\nTwinkle twinkle, little star, \\n \\t How I wonder what you are\");"
   ]
  },
  {
   "cell_type": "code",
   "execution_count": 36,
   "id": "83eedc4d",
   "metadata": {},
   "outputs": [
    {
     "name": "stdout",
     "output_type": "stream",
     "text": [
      "python Version is : \n",
      "3.9.7 (default, Sep 16 2021, 16:59:28) [MSC v.1916 64 bit (AMD64)]\n"
     ]
    }
   ],
   "source": [
    "import sys;\n",
    "print(\"python Version is : \");\n",
    "print(sys.version);"
   ]
  },
  {
   "cell_type": "code",
   "execution_count": 15,
   "id": "4b552a0f",
   "metadata": {},
   "outputs": [
    {
     "name": "stdout",
     "output_type": "stream",
     "text": [
      "2022-01-01 21:13:54.959737\n"
     ]
    }
   ],
   "source": [
    "from datetime import datetime;\n",
    "print(datetime.now());"
   ]
  },
  {
   "cell_type": "code",
   "execution_count": 29,
   "id": "d670c20c",
   "metadata": {},
   "outputs": [
    {
     "name": "stdout",
     "output_type": "stream",
     "text": [
      "Enter value of Radius of circle: 5\n",
      "The Area of the Circle is: 78.53981633974483\n"
     ]
    }
   ],
   "source": [
    "from math import pi;\n",
    "val = float (input(\"Enter value of Radius of circle: \"));\n",
    "print(\"The Area of the Circle is: \" +str(pi*val**2));\n"
   ]
  },
  {
   "cell_type": "code",
   "execution_count": 40,
   "id": "9469d0eb",
   "metadata": {},
   "outputs": [
    {
     "name": "stdout",
     "output_type": "stream",
     "text": [
      "Enter First Name : aqib\n",
      "Enter Last Name : rehman\n",
      "rehman aqib\n"
     ]
    }
   ],
   "source": [
    "val1 =  input (\"Enter First Name : \");\n",
    "val2 =  input (\"Enter Last Name : \");\n",
    "print(val2+ \" \"+val1);"
   ]
  },
  {
   "cell_type": "code",
   "execution_count": 30,
   "id": "afc32cbb",
   "metadata": {},
   "outputs": [
    {
     "name": "stdout",
     "output_type": "stream",
     "text": [
      "Enter your value 1 : 5\n",
      "Enter your value 2 : 2\n",
      "Sum of 2 numbers is  7\n"
     ]
    }
   ],
   "source": [
    "val1 = int (input(\"Enter your value 1 : \"));\n",
    "val2 = int (input(\"Enter your value 2 : \"));\n",
    "sum=val1+val2;\n",
    "print(\"Sum of 2 numbers is \",sum);"
   ]
  },
  {
   "cell_type": "code",
   "execution_count": null,
   "id": "42e7460d",
   "metadata": {},
   "outputs": [],
   "source": []
  }
 ],
 "metadata": {
  "kernelspec": {
   "display_name": "Python 3 (ipykernel)",
   "language": "python",
   "name": "python3"
  },
  "language_info": {
   "codemirror_mode": {
    "name": "ipython",
    "version": 3
   },
   "file_extension": ".py",
   "mimetype": "text/x-python",
   "name": "python",
   "nbconvert_exporter": "python",
   "pygments_lexer": "ipython3",
   "version": "3.9.7"
  }
 },
 "nbformat": 4,
 "nbformat_minor": 5
}
